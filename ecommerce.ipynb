{
 "cells": [
  {
   "cell_type": "markdown",
   "metadata": {},
   "source": [
    "# Import and Load dataset"
   ]
  },
  {
   "cell_type": "code",
   "execution_count": 43,
   "metadata": {},
   "outputs": [],
   "source": [
    "import pandas as pd \n",
    "import numpy as np \n",
    "import matplotlib.pyplot as plt \n",
    "import seaborn as sns "
   ]
  },
  {
   "cell_type": "code",
   "execution_count": 44,
   "metadata": {},
   "outputs": [],
   "source": [
    "# Load Datset\n",
    "ecommerce=pd.read_csv('ecommerce_customer_behavior_dataset.csv')"
   ]
  },
  {
   "cell_type": "markdown",
   "metadata": {},
   "source": [
    "# Dataset Overview "
   ]
  },
  {
   "cell_type": "code",
   "execution_count": 45,
   "metadata": {},
   "outputs": [
    {
     "data": {
      "text/html": [
       "<div>\n",
       "<style scoped>\n",
       "    .dataframe tbody tr th:only-of-type {\n",
       "        vertical-align: middle;\n",
       "    }\n",
       "\n",
       "    .dataframe tbody tr th {\n",
       "        vertical-align: top;\n",
       "    }\n",
       "\n",
       "    .dataframe thead th {\n",
       "        text-align: right;\n",
       "    }\n",
       "</style>\n",
       "<table border=\"1\" class=\"dataframe\">\n",
       "  <thead>\n",
       "    <tr style=\"text-align: right;\">\n",
       "      <th></th>\n",
       "      <th>Customer ID</th>\n",
       "      <th>Age</th>\n",
       "      <th>Gender</th>\n",
       "      <th>Location</th>\n",
       "      <th>Product Category</th>\n",
       "      <th>Purchase Amount ($)</th>\n",
       "      <th>Time Spent on Website (min)</th>\n",
       "      <th>Device Type</th>\n",
       "      <th>Payment Method</th>\n",
       "      <th>Discount Availed</th>\n",
       "      <th>Number of Items Purchased</th>\n",
       "      <th>Return Customer</th>\n",
       "      <th>Review Score (1-5)</th>\n",
       "      <th>Delivery Time (days)</th>\n",
       "      <th>Subscription Status</th>\n",
       "      <th>Customer Satisfaction</th>\n",
       "    </tr>\n",
       "  </thead>\n",
       "  <tbody>\n",
       "    <tr>\n",
       "      <th>0</th>\n",
       "      <td>1</td>\n",
       "      <td>20</td>\n",
       "      <td>Other</td>\n",
       "      <td>Dhaka</td>\n",
       "      <td>Toys</td>\n",
       "      <td>202.54</td>\n",
       "      <td>44</td>\n",
       "      <td>Mobile</td>\n",
       "      <td>Cash on Delivery</td>\n",
       "      <td>True</td>\n",
       "      <td>4</td>\n",
       "      <td>True</td>\n",
       "      <td>5</td>\n",
       "      <td>4</td>\n",
       "      <td>Free</td>\n",
       "      <td>Low</td>\n",
       "    </tr>\n",
       "    <tr>\n",
       "      <th>1</th>\n",
       "      <td>2</td>\n",
       "      <td>39</td>\n",
       "      <td>Male</td>\n",
       "      <td>Rangpur</td>\n",
       "      <td>Sports</td>\n",
       "      <td>655.94</td>\n",
       "      <td>27</td>\n",
       "      <td>Desktop</td>\n",
       "      <td>Bank Transfer</td>\n",
       "      <td>True</td>\n",
       "      <td>1</td>\n",
       "      <td>False</td>\n",
       "      <td>1</td>\n",
       "      <td>7</td>\n",
       "      <td>Free</td>\n",
       "      <td>Medium</td>\n",
       "    </tr>\n",
       "  </tbody>\n",
       "</table>\n",
       "</div>"
      ],
      "text/plain": [
       "   Customer ID  Age Gender Location Product Category  Purchase Amount ($)  \\\n",
       "0            1   20  Other    Dhaka             Toys               202.54   \n",
       "1            2   39   Male  Rangpur           Sports               655.94   \n",
       "\n",
       "   Time Spent on Website (min) Device Type    Payment Method  \\\n",
       "0                           44      Mobile  Cash on Delivery   \n",
       "1                           27     Desktop     Bank Transfer   \n",
       "\n",
       "   Discount Availed  Number of Items Purchased  Return Customer  \\\n",
       "0              True                          4             True   \n",
       "1              True                          1            False   \n",
       "\n",
       "   Review Score (1-5)  Delivery Time (days) Subscription Status  \\\n",
       "0                   5                     4                Free   \n",
       "1                   1                     7                Free   \n",
       "\n",
       "  Customer Satisfaction  \n",
       "0                   Low  \n",
       "1                Medium  "
      ]
     },
     "execution_count": 45,
     "metadata": {},
     "output_type": "execute_result"
    }
   ],
   "source": [
    "ecommerce.head(2)"
   ]
  },
  {
   "cell_type": "code",
   "execution_count": 46,
   "metadata": {},
   "outputs": [
    {
     "data": {
      "text/plain": [
       "(10000, 16)"
      ]
     },
     "execution_count": 46,
     "metadata": {},
     "output_type": "execute_result"
    }
   ],
   "source": [
    "ecommerce.shape"
   ]
  },
  {
   "cell_type": "markdown",
   "metadata": {},
   "source": [
    "<b> Total 10K Data with 16 Columns </b>"
   ]
  },
  {
   "cell_type": "code",
   "execution_count": 47,
   "metadata": {},
   "outputs": [
    {
     "name": "stdout",
     "output_type": "stream",
     "text": [
      "<class 'pandas.core.frame.DataFrame'>\n",
      "RangeIndex: 10000 entries, 0 to 9999\n",
      "Data columns (total 16 columns):\n",
      " #   Column                       Non-Null Count  Dtype  \n",
      "---  ------                       --------------  -----  \n",
      " 0   Customer ID                  10000 non-null  int64  \n",
      " 1   Age                          10000 non-null  int64  \n",
      " 2   Gender                       10000 non-null  object \n",
      " 3   Location                     10000 non-null  object \n",
      " 4   Product Category             10000 non-null  object \n",
      " 5   Purchase Amount ($)          10000 non-null  float64\n",
      " 6   Time Spent on Website (min)  10000 non-null  int64  \n",
      " 7   Device Type                  10000 non-null  object \n",
      " 8   Payment Method               10000 non-null  object \n",
      " 9   Discount Availed             10000 non-null  bool   \n",
      " 10  Number of Items Purchased    10000 non-null  int64  \n",
      " 11  Return Customer              10000 non-null  bool   \n",
      " 12  Review Score (1-5)           10000 non-null  int64  \n",
      " 13  Delivery Time (days)         10000 non-null  int64  \n",
      " 14  Subscription Status          10000 non-null  object \n",
      " 15  Customer Satisfaction        10000 non-null  object \n",
      "dtypes: bool(2), float64(1), int64(6), object(7)\n",
      "memory usage: 1.1+ MB\n"
     ]
    }
   ],
   "source": [
    "ecommerce.info()"
   ]
  },
  {
   "cell_type": "code",
   "execution_count": 48,
   "metadata": {},
   "outputs": [],
   "source": [
    "dataset_overview = pd.DataFrame({'Type': ecommerce.dtypes, 'Null': ecommerce.isnull().sum(),'Duplicate': ecommerce.duplicated().sum(), 'Unique': ecommerce.nunique()})\n"
   ]
  },
  {
   "cell_type": "code",
   "execution_count": 49,
   "metadata": {},
   "outputs": [
    {
     "data": {
      "text/html": [
       "<div>\n",
       "<style scoped>\n",
       "    .dataframe tbody tr th:only-of-type {\n",
       "        vertical-align: middle;\n",
       "    }\n",
       "\n",
       "    .dataframe tbody tr th {\n",
       "        vertical-align: top;\n",
       "    }\n",
       "\n",
       "    .dataframe thead th {\n",
       "        text-align: right;\n",
       "    }\n",
       "</style>\n",
       "<table border=\"1\" class=\"dataframe\">\n",
       "  <thead>\n",
       "    <tr style=\"text-align: right;\">\n",
       "      <th></th>\n",
       "      <th>Type</th>\n",
       "      <th>Null</th>\n",
       "      <th>Duplicate</th>\n",
       "      <th>Unique</th>\n",
       "    </tr>\n",
       "  </thead>\n",
       "  <tbody>\n",
       "    <tr>\n",
       "      <th>Customer ID</th>\n",
       "      <td>int64</td>\n",
       "      <td>0</td>\n",
       "      <td>0</td>\n",
       "      <td>10000</td>\n",
       "    </tr>\n",
       "    <tr>\n",
       "      <th>Age</th>\n",
       "      <td>int64</td>\n",
       "      <td>0</td>\n",
       "      <td>0</td>\n",
       "      <td>52</td>\n",
       "    </tr>\n",
       "    <tr>\n",
       "      <th>Gender</th>\n",
       "      <td>object</td>\n",
       "      <td>0</td>\n",
       "      <td>0</td>\n",
       "      <td>3</td>\n",
       "    </tr>\n",
       "    <tr>\n",
       "      <th>Location</th>\n",
       "      <td>object</td>\n",
       "      <td>0</td>\n",
       "      <td>0</td>\n",
       "      <td>8</td>\n",
       "    </tr>\n",
       "    <tr>\n",
       "      <th>Product Category</th>\n",
       "      <td>object</td>\n",
       "      <td>0</td>\n",
       "      <td>0</td>\n",
       "      <td>8</td>\n",
       "    </tr>\n",
       "    <tr>\n",
       "      <th>Purchase Amount ($)</th>\n",
       "      <td>float64</td>\n",
       "      <td>0</td>\n",
       "      <td>0</td>\n",
       "      <td>9526</td>\n",
       "    </tr>\n",
       "    <tr>\n",
       "      <th>Time Spent on Website (min)</th>\n",
       "      <td>int64</td>\n",
       "      <td>0</td>\n",
       "      <td>0</td>\n",
       "      <td>59</td>\n",
       "    </tr>\n",
       "    <tr>\n",
       "      <th>Device Type</th>\n",
       "      <td>object</td>\n",
       "      <td>0</td>\n",
       "      <td>0</td>\n",
       "      <td>3</td>\n",
       "    </tr>\n",
       "    <tr>\n",
       "      <th>Payment Method</th>\n",
       "      <td>object</td>\n",
       "      <td>0</td>\n",
       "      <td>0</td>\n",
       "      <td>5</td>\n",
       "    </tr>\n",
       "    <tr>\n",
       "      <th>Discount Availed</th>\n",
       "      <td>bool</td>\n",
       "      <td>0</td>\n",
       "      <td>0</td>\n",
       "      <td>2</td>\n",
       "    </tr>\n",
       "    <tr>\n",
       "      <th>Number of Items Purchased</th>\n",
       "      <td>int64</td>\n",
       "      <td>0</td>\n",
       "      <td>0</td>\n",
       "      <td>9</td>\n",
       "    </tr>\n",
       "    <tr>\n",
       "      <th>Return Customer</th>\n",
       "      <td>bool</td>\n",
       "      <td>0</td>\n",
       "      <td>0</td>\n",
       "      <td>2</td>\n",
       "    </tr>\n",
       "    <tr>\n",
       "      <th>Review Score (1-5)</th>\n",
       "      <td>int64</td>\n",
       "      <td>0</td>\n",
       "      <td>0</td>\n",
       "      <td>5</td>\n",
       "    </tr>\n",
       "    <tr>\n",
       "      <th>Delivery Time (days)</th>\n",
       "      <td>int64</td>\n",
       "      <td>0</td>\n",
       "      <td>0</td>\n",
       "      <td>13</td>\n",
       "    </tr>\n",
       "    <tr>\n",
       "      <th>Subscription Status</th>\n",
       "      <td>object</td>\n",
       "      <td>0</td>\n",
       "      <td>0</td>\n",
       "      <td>3</td>\n",
       "    </tr>\n",
       "    <tr>\n",
       "      <th>Customer Satisfaction</th>\n",
       "      <td>object</td>\n",
       "      <td>0</td>\n",
       "      <td>0</td>\n",
       "      <td>3</td>\n",
       "    </tr>\n",
       "  </tbody>\n",
       "</table>\n",
       "</div>"
      ],
      "text/plain": [
       "                                Type  Null  Duplicate  Unique\n",
       "Customer ID                    int64     0          0   10000\n",
       "Age                            int64     0          0      52\n",
       "Gender                        object     0          0       3\n",
       "Location                      object     0          0       8\n",
       "Product Category              object     0          0       8\n",
       "Purchase Amount ($)          float64     0          0    9526\n",
       "Time Spent on Website (min)    int64     0          0      59\n",
       "Device Type                   object     0          0       3\n",
       "Payment Method                object     0          0       5\n",
       "Discount Availed                bool     0          0       2\n",
       "Number of Items Purchased      int64     0          0       9\n",
       "Return Customer                 bool     0          0       2\n",
       "Review Score (1-5)             int64     0          0       5\n",
       "Delivery Time (days)           int64     0          0      13\n",
       "Subscription Status           object     0          0       3\n",
       "Customer Satisfaction         object     0          0       3"
      ]
     },
     "execution_count": 49,
     "metadata": {},
     "output_type": "execute_result"
    }
   ],
   "source": [
    "dataset_overview"
   ]
  },
  {
   "cell_type": "markdown",
   "metadata": {},
   "source": [
    "-  No null values\n",
    "-  No Duplicate values\n",
    "- Most of the columns are categorical and few are int type"
   ]
  },
  {
   "cell_type": "code",
   "execution_count": 50,
   "metadata": {},
   "outputs": [
    {
     "data": {
      "text/html": [
       "<div>\n",
       "<style scoped>\n",
       "    .dataframe tbody tr th:only-of-type {\n",
       "        vertical-align: middle;\n",
       "    }\n",
       "\n",
       "    .dataframe tbody tr th {\n",
       "        vertical-align: top;\n",
       "    }\n",
       "\n",
       "    .dataframe thead th {\n",
       "        text-align: right;\n",
       "    }\n",
       "</style>\n",
       "<table border=\"1\" class=\"dataframe\">\n",
       "  <thead>\n",
       "    <tr style=\"text-align: right;\">\n",
       "      <th></th>\n",
       "      <th>Gender</th>\n",
       "      <th>Location</th>\n",
       "      <th>Product Category</th>\n",
       "      <th>Device Type</th>\n",
       "      <th>Payment Method</th>\n",
       "      <th>Subscription Status</th>\n",
       "      <th>Customer Satisfaction</th>\n",
       "    </tr>\n",
       "  </thead>\n",
       "  <tbody>\n",
       "    <tr>\n",
       "      <th>count</th>\n",
       "      <td>10000</td>\n",
       "      <td>10000</td>\n",
       "      <td>10000</td>\n",
       "      <td>10000</td>\n",
       "      <td>10000</td>\n",
       "      <td>10000</td>\n",
       "      <td>10000</td>\n",
       "    </tr>\n",
       "    <tr>\n",
       "      <th>unique</th>\n",
       "      <td>3</td>\n",
       "      <td>8</td>\n",
       "      <td>8</td>\n",
       "      <td>3</td>\n",
       "      <td>5</td>\n",
       "      <td>3</td>\n",
       "      <td>3</td>\n",
       "    </tr>\n",
       "    <tr>\n",
       "      <th>top</th>\n",
       "      <td>Male</td>\n",
       "      <td>Khulna</td>\n",
       "      <td>Electronics</td>\n",
       "      <td>Mobile</td>\n",
       "      <td>Bank Transfer</td>\n",
       "      <td>Premium</td>\n",
       "      <td>Low</td>\n",
       "    </tr>\n",
       "    <tr>\n",
       "      <th>freq</th>\n",
       "      <td>3349</td>\n",
       "      <td>1291</td>\n",
       "      <td>1309</td>\n",
       "      <td>3374</td>\n",
       "      <td>2067</td>\n",
       "      <td>3369</td>\n",
       "      <td>3365</td>\n",
       "    </tr>\n",
       "  </tbody>\n",
       "</table>\n",
       "</div>"
      ],
      "text/plain": [
       "       Gender Location Product Category Device Type Payment Method  \\\n",
       "count   10000    10000            10000       10000          10000   \n",
       "unique      3        8                8           3              5   \n",
       "top      Male   Khulna      Electronics      Mobile  Bank Transfer   \n",
       "freq     3349     1291             1309        3374           2067   \n",
       "\n",
       "       Subscription Status Customer Satisfaction  \n",
       "count                10000                 10000  \n",
       "unique                   3                     3  \n",
       "top                Premium                   Low  \n",
       "freq                  3369                  3365  "
      ]
     },
     "execution_count": 50,
     "metadata": {},
     "output_type": "execute_result"
    }
   ],
   "source": [
    "ecommerce.describe(include=['object'])"
   ]
  },
  {
   "cell_type": "code",
   "execution_count": 51,
   "metadata": {},
   "outputs": [
    {
     "data": {
      "text/html": [
       "<div>\n",
       "<style scoped>\n",
       "    .dataframe tbody tr th:only-of-type {\n",
       "        vertical-align: middle;\n",
       "    }\n",
       "\n",
       "    .dataframe tbody tr th {\n",
       "        vertical-align: top;\n",
       "    }\n",
       "\n",
       "    .dataframe thead th {\n",
       "        text-align: right;\n",
       "    }\n",
       "</style>\n",
       "<table border=\"1\" class=\"dataframe\">\n",
       "  <thead>\n",
       "    <tr style=\"text-align: right;\">\n",
       "      <th></th>\n",
       "      <th>Customer ID</th>\n",
       "      <th>Age</th>\n",
       "      <th>Purchase Amount ($)</th>\n",
       "      <th>Time Spent on Website (min)</th>\n",
       "      <th>Number of Items Purchased</th>\n",
       "      <th>Review Score (1-5)</th>\n",
       "      <th>Delivery Time (days)</th>\n",
       "    </tr>\n",
       "  </thead>\n",
       "  <tbody>\n",
       "    <tr>\n",
       "      <th>count</th>\n",
       "      <td>10000.00000</td>\n",
       "      <td>10000.000000</td>\n",
       "      <td>10000.000000</td>\n",
       "      <td>10000.000000</td>\n",
       "      <td>10000.000000</td>\n",
       "      <td>10000.000000</td>\n",
       "      <td>10000.000000</td>\n",
       "    </tr>\n",
       "    <tr>\n",
       "      <th>mean</th>\n",
       "      <td>5000.50000</td>\n",
       "      <td>43.789900</td>\n",
       "      <td>503.892494</td>\n",
       "      <td>29.918400</td>\n",
       "      <td>4.998500</td>\n",
       "      <td>2.995100</td>\n",
       "      <td>7.013000</td>\n",
       "    </tr>\n",
       "    <tr>\n",
       "      <th>std</th>\n",
       "      <td>2886.89568</td>\n",
       "      <td>15.005521</td>\n",
       "      <td>286.238084</td>\n",
       "      <td>17.002107</td>\n",
       "      <td>2.574988</td>\n",
       "      <td>1.404163</td>\n",
       "      <td>3.721561</td>\n",
       "    </tr>\n",
       "    <tr>\n",
       "      <th>min</th>\n",
       "      <td>1.00000</td>\n",
       "      <td>18.000000</td>\n",
       "      <td>5.190000</td>\n",
       "      <td>1.000000</td>\n",
       "      <td>1.000000</td>\n",
       "      <td>1.000000</td>\n",
       "      <td>1.000000</td>\n",
       "    </tr>\n",
       "    <tr>\n",
       "      <th>25%</th>\n",
       "      <td>2500.75000</td>\n",
       "      <td>31.000000</td>\n",
       "      <td>254.937500</td>\n",
       "      <td>15.000000</td>\n",
       "      <td>3.000000</td>\n",
       "      <td>2.000000</td>\n",
       "      <td>4.000000</td>\n",
       "    </tr>\n",
       "    <tr>\n",
       "      <th>50%</th>\n",
       "      <td>5000.50000</td>\n",
       "      <td>44.000000</td>\n",
       "      <td>506.195000</td>\n",
       "      <td>30.000000</td>\n",
       "      <td>5.000000</td>\n",
       "      <td>3.000000</td>\n",
       "      <td>7.000000</td>\n",
       "    </tr>\n",
       "    <tr>\n",
       "      <th>75%</th>\n",
       "      <td>7500.25000</td>\n",
       "      <td>57.000000</td>\n",
       "      <td>749.135000</td>\n",
       "      <td>45.000000</td>\n",
       "      <td>7.000000</td>\n",
       "      <td>4.000000</td>\n",
       "      <td>10.000000</td>\n",
       "    </tr>\n",
       "    <tr>\n",
       "      <th>max</th>\n",
       "      <td>10000.00000</td>\n",
       "      <td>69.000000</td>\n",
       "      <td>999.980000</td>\n",
       "      <td>59.000000</td>\n",
       "      <td>9.000000</td>\n",
       "      <td>5.000000</td>\n",
       "      <td>13.000000</td>\n",
       "    </tr>\n",
       "  </tbody>\n",
       "</table>\n",
       "</div>"
      ],
      "text/plain": [
       "       Customer ID           Age  Purchase Amount ($)  \\\n",
       "count  10000.00000  10000.000000         10000.000000   \n",
       "mean    5000.50000     43.789900           503.892494   \n",
       "std     2886.89568     15.005521           286.238084   \n",
       "min        1.00000     18.000000             5.190000   \n",
       "25%     2500.75000     31.000000           254.937500   \n",
       "50%     5000.50000     44.000000           506.195000   \n",
       "75%     7500.25000     57.000000           749.135000   \n",
       "max    10000.00000     69.000000           999.980000   \n",
       "\n",
       "       Time Spent on Website (min)  Number of Items Purchased  \\\n",
       "count                 10000.000000               10000.000000   \n",
       "mean                     29.918400                   4.998500   \n",
       "std                      17.002107                   2.574988   \n",
       "min                       1.000000                   1.000000   \n",
       "25%                      15.000000                   3.000000   \n",
       "50%                      30.000000                   5.000000   \n",
       "75%                      45.000000                   7.000000   \n",
       "max                      59.000000                   9.000000   \n",
       "\n",
       "       Review Score (1-5)  Delivery Time (days)  \n",
       "count        10000.000000          10000.000000  \n",
       "mean             2.995100              7.013000  \n",
       "std              1.404163              3.721561  \n",
       "min              1.000000              1.000000  \n",
       "25%              2.000000              4.000000  \n",
       "50%              3.000000              7.000000  \n",
       "75%              4.000000             10.000000  \n",
       "max              5.000000             13.000000  "
      ]
     },
     "execution_count": 51,
     "metadata": {},
     "output_type": "execute_result"
    }
   ],
   "source": [
    "ecommerce.describe(include=['int','float'])"
   ]
  },
  {
   "cell_type": "markdown",
   "metadata": {},
   "source": [
    "# Level 1 -Basic Insight"
   ]
  },
  {
   "cell_type": "markdown",
   "metadata": {},
   "source": [
    "<b> Q1: Find Mean, Median, and Mode (Age) </b>"
   ]
  },
  {
   "cell_type": "code",
   "execution_count": 52,
   "metadata": {},
   "outputs": [
    {
     "name": "stdout",
     "output_type": "stream",
     "text": [
      "Average Customer Age: 43.7899\n",
      "Mode: 51\n",
      "Median: 44.0\n"
     ]
    }
   ],
   "source": [
    "print('Average Customer Age:',ecommerce['Age'].mean())\n",
    "print('Mode:',ecommerce['Age'].mode()[0])\n",
    "print('Median:',ecommerce['Age'].median())"
   ]
  },
  {
   "cell_type": "markdown",
   "metadata": {},
   "source": [
    "<b> Observation: </b>\n",
    "\n",
    "- Average Age is around 44 . Which are categorize into middle age . Its gives the idea that the dataset has old people as well as young people . Also its central age of the data.\n",
    "\n",
    "- Most Frequnet people are in the site is purchasing product is 51 years old .Interesting, Because of old people are purchasing good amount product from home.We might get more idea on the further exploration in the dataset.Lets see!\n",
    "\n",
    "- The Median of age 44 years old give the idea about central age of this dataset. "
   ]
  },
  {
   "cell_type": "markdown",
   "metadata": {},
   "source": [
    "<b>Q2: Find variance, standard deviation, and z-score (Purchase Amount)</b>"
   ]
  },
  {
   "cell_type": "code",
   "execution_count": 53,
   "metadata": {},
   "outputs": [
    {
     "name": "stdout",
     "output_type": "stream",
     "text": [
      "Std: 286.23808399685913\n",
      "Variance: 81932.24073019298\n",
      "\n",
      "\n",
      "   Purchase Amount   Z-Score\n",
      "0           202.54 -1.052804\n",
      "1           655.94  0.531192\n",
      "2           963.65  1.606207\n",
      "3           485.59 -0.063942\n",
      "4           143.27 -1.259869\n"
     ]
    }
   ],
   "source": [
    "print('Std:',ecommerce['Purchase Amount ($)'].std()) # calculate standard deviation\n",
    "print('Variance:',ecommerce['Purchase Amount ($)'].var())# calculate variance\n",
    "z_score=(ecommerce['Purchase Amount ($)']- ecommerce['Purchase Amount ($)'].mean())/ecommerce['Purchase Amount ($)'].std()# Calculate Z-Score\n",
    "df = pd.DataFrame({\n",
    "    'Purchase Amount': ecommerce['Purchase Amount ($)'],\n",
    "    'Z-Score': z_score\n",
    "}) # Create a DataFrame for better understanding\n",
    "print('\\n')\n",
    "print(df.head(5).reset_index(drop=True))\n"
   ]
  },
  {
   "cell_type": "markdown",
   "metadata": {},
   "source": [
    "<b></b>"
   ]
  },
  {
   "cell_type": "markdown",
   "metadata": {},
   "source": [
    "<b></b>"
   ]
  },
  {
   "cell_type": "markdown",
   "metadata": {},
   "source": [
    "<b>Q3: What are the top three product categories based on the number of purchases?</b>"
   ]
  },
  {
   "cell_type": "code",
   "execution_count": 54,
   "metadata": {},
   "outputs": [
    {
     "name": "stdout",
     "output_type": "stream",
     "text": [
      "Product Category\n",
      "Electronics    1309\n",
      "Clothing       1297\n",
      "Toys           1288\n",
      "dtype: int64\n"
     ]
    }
   ],
   "source": [
    "ecommerce_sorted = ecommerce.sort_values(by='Number of Items Purchased', ascending=False)\n",
    "top_categories = ecommerce_sorted.groupby('Product Category').size().nlargest(3)\n",
    "print(top_categories)"
   ]
  },
  {
   "cell_type": "markdown",
   "metadata": {},
   "source": [
    "<b></b>"
   ]
  },
  {
   "cell_type": "markdown",
   "metadata": {},
   "source": [
    "<b>Observation:<b>\n",
    "\n",
    "- The top 3 products are electronics, clothing, and toys. This suggests that people may find it more convenient to purchase these products online without any hassle. Additionally, I assume that significant discounts offered online could be attracting more customers."
   ]
  },
  {
   "cell_type": "markdown",
   "metadata": {},
   "source": [
    "<b>Q4: How many customers are classified as return customers?</b>"
   ]
  },
  {
   "cell_type": "code",
   "execution_count": 55,
   "metadata": {},
   "outputs": [
    {
     "name": "stdout",
     "output_type": "stream",
     "text": [
      "Return Customer: 4996\n"
     ]
    }
   ],
   "source": [
    "return_customer = ecommerce['Return Customer'].value_counts()\n",
    "print('Return Customer:', return_customer.iloc[1])\n"
   ]
  },
  {
   "cell_type": "markdown",
   "metadata": {},
   "source": [
    "<b>Observation: </b>\n",
    "\n",
    "- Total customer in the datset 10k . Around 49.96% customer return for online purchasing. Around 51% not returned .We have to get more idea to construct why they don't return"
   ]
  },
  {
   "cell_type": "markdown",
   "metadata": {},
   "source": [
    "<b></b>"
   ]
  },
  {
   "cell_type": "markdown",
   "metadata": {},
   "source": [
    "<b>Q5: What is the average review score given by customers?</b>"
   ]
  },
  {
   "cell_type": "markdown",
   "metadata": {},
   "source": [
    "<b></b>"
   ]
  },
  {
   "cell_type": "code",
   "execution_count": 56,
   "metadata": {},
   "outputs": [
    {
     "name": "stdout",
     "output_type": "stream",
     "text": [
      "Average Review Score: 2.9951\n"
     ]
    }
   ],
   "source": [
    "print('Average Review Score:',ecommerce['Review Score (1-5)'].mean())"
   ]
  },
  {
   "cell_type": "markdown",
   "metadata": {},
   "source": [
    "<b>Observation: </b>\n",
    "\n",
    "- So average review score is 3 . Its a mixed or neutral response from customer. We need to improve this if we want to increase profitability."
   ]
  },
  {
   "cell_type": "markdown",
   "metadata": {},
   "source": [
    "<b></b>"
   ]
  },
  {
   "cell_type": "markdown",
   "metadata": {},
   "source": [
    "<b>Q6: How does the average delivery time vary between subscription statuses (Free,\n",
    "Premium)?</b>"
   ]
  },
  {
   "cell_type": "code",
   "execution_count": 57,
   "metadata": {},
   "outputs": [
    {
     "data": {
      "text/plain": [
       "Subscription Status\n",
       "Free       6.963924\n",
       "Premium    7.070347\n",
       "Trial      7.004272\n",
       "Name: Delivery Time (days), dtype: float64"
      ]
     },
     "execution_count": 57,
     "metadata": {},
     "output_type": "execute_result"
    }
   ],
   "source": [
    "ecommerce.groupby('Subscription Status')['Delivery Time (days)'].mean()"
   ]
  },
  {
   "cell_type": "markdown",
   "metadata": {},
   "source": [
    "<b></b>"
   ]
  },
  {
   "cell_type": "markdown",
   "metadata": {},
   "source": [
    "<b>Observation: </b>\n",
    "\n",
    "- Those who have Free status are delivered fast compare to other status. For the premium and trial takes extra it might be  because of the the numbers of product or maintain quality of the product during delivery. "
   ]
  },
  {
   "cell_type": "markdown",
   "metadata": {},
   "source": [
    "<b>Q7: How many customers are subscribed to the service?</b>"
   ]
  },
  {
   "cell_type": "code",
   "execution_count": 58,
   "metadata": {},
   "outputs": [
    {
     "name": "stdout",
     "output_type": "stream",
     "text": [
      "Total Subscibe Customer for the service: 3369\n"
     ]
    }
   ],
   "source": [
    "print(\"Total Subscibe Customer for the service:\",ecommerce['Subscription Status'].value_counts().iloc[0])"
   ]
  },
  {
   "cell_type": "markdown",
   "metadata": {},
   "source": [
    "<b>Observation: </b>\n",
    "\n",
    "- We are considering only premium customers as paid customers. In some cases, trials are also free online. Therefore, we are counting only premium users as paid services, with a total of 3,369 customers on the site."
   ]
  },
  {
   "cell_type": "markdown",
   "metadata": {},
   "source": [
    "<b> Q8: What percentage of customers used devices to make purchases? (Mobile, Desktop,\n",
    "Tablet)"
   ]
  },
  {
   "cell_type": "code",
   "execution_count": 88,
   "metadata": {},
   "outputs": [
    {
     "data": {
      "text/plain": [
       "Device Type\n",
       "Mobile     33.74\n",
       "Desktop    33.48\n",
       "Tablet     32.78\n",
       "Name: proportion, dtype: float64"
      ]
     },
     "execution_count": 88,
     "metadata": {},
     "output_type": "execute_result"
    }
   ],
   "source": [
    "ecommerce['Device Type'].value_counts(normalize=True)*100"
   ]
  },
  {
   "cell_type": "markdown",
   "metadata": {},
   "source": [
    "<b>Observation: </b>\n",
    "\n",
    "- Mobile devices are easy and convenient to use, which is why most people prefer shopping on mobile. They allow customers to place orders from anywhere using their mobile devices."
   ]
  },
  {
   "cell_type": "markdown",
   "metadata": {},
   "source": [
    "<b> Q9: What is the average purchase amount for customers who availed discounts compared\n",
    "to those who didn’t?"
   ]
  },
  {
   "cell_type": "code",
   "execution_count": 60,
   "metadata": {},
   "outputs": [
    {
     "name": "stdout",
     "output_type": "stream",
     "text": [
      "Average Purchase Amount (With Discount): 505.2641777954953\n",
      "Average Purchase Amount (Without Discount): 502.5114509331728\n",
      "Ratio of Average Purchase Amount (With Discount) to Average Purchase Amount (Without Discount): 1.005477938576744\n"
     ]
    }
   ],
   "source": [
    "average_purchase_discount = ecommerce[ecommerce['Discount Availed'] == True]['Purchase Amount ($)'].mean()\n",
    "average_purchase_no_discount = ecommerce[ecommerce['Discount Availed'] == False]['Purchase Amount ($)'].mean()\n",
    "\n",
    "print(\"Average Purchase Amount (With Discount):\", average_purchase_discount)\n",
    "print(\"Average Purchase Amount (Without Discount):\", average_purchase_no_discount)\n",
    "\n",
    "ratio = average_purchase_discount/average_purchase_no_discount\n",
    "\n",
    "print(\"Ratio of Average Purchase Amount (With Discount) to Average Purchase Amount (Without Discount):\", ratio)\n"
   ]
  },
  {
   "cell_type": "markdown",
   "metadata": {},
   "source": [
    "<b>Observation: </b>\n",
    "\n",
    "- Only a 1% difference between the average purchase amount with a discount and without a discount. Its a less significant difference. It indicates only a minor impact and suggests that the discount or without discount does not drastically change customer purchasing behavior in this case"
   ]
  },
  {
   "cell_type": "markdown",
   "metadata": {},
   "source": [
    "<b>Q10: What is the most common payment method used by customers?"
   ]
  },
  {
   "cell_type": "code",
   "execution_count": 61,
   "metadata": {},
   "outputs": [
    {
     "name": "stdout",
     "output_type": "stream",
     "text": [
      "Most Common Payment Method: Bank Transfer,Total:2067\n"
     ]
    }
   ],
   "source": [
    "most_common_payment_method = ecommerce['Payment Method'].value_counts().idxmax()\n",
    "most_common_payment_count = ecommerce['Payment Method'].value_counts().max()\n",
    "\n",
    "print(f'Most Common Payment Method: {most_common_payment_method},Total:{most_common_payment_count}')\n"
   ]
  },
  {
   "cell_type": "markdown",
   "metadata": {},
   "source": [
    "<b>Observation:</b>\n",
    "\n",
    "- Customers are choosing Bank Transfer for online shopping, which may be due to several reasons:\n",
    " 1. Security.\n",
    " 2. Familiarity with the payment method.\n",
    " 3. Mostly middle-aged and old aged people prefer bank transfers.\n",
    " 4. Easy and smooth process."
   ]
  },
  {
   "cell_type": "markdown",
   "metadata": {},
   "source": [
    "# Level 2: Intermediate Insights "
   ]
  },
  {
   "cell_type": "markdown",
   "metadata": {},
   "source": [
    "<b> Q1: What are the average review scores of users of the most common payment method?"
   ]
  },
  {
   "cell_type": "code",
   "execution_count": 62,
   "metadata": {},
   "outputs": [
    {
     "name": "stdout",
     "output_type": "stream",
     "text": [
      "Average Review Score for the most common payment method: 2.9888727624576683\n"
     ]
    }
   ],
   "source": [
    "most_common_payment_method=ecommerce['Payment Method'].value_counts().idxmax()\n",
    "\n",
    "avg_review_score=ecommerce[ecommerce['Payment Method']==most_common_payment_method]['Review Score (1-5)'].mean()\n",
    "print(f'Average Review Score for the most common payment method: {avg_review_score}')"
   ]
  },
  {
   "cell_type": "markdown",
   "metadata": {},
   "source": [
    "<b> Observation: </b>\n",
    "- The most common payment method found is bank payment. Bank payment users have given an average review score of around 3, indicating a neutral and mixed response."
   ]
  },
  {
   "cell_type": "markdown",
   "metadata": {},
   "source": [
    "<b> Q2: What is the correlation between time spent on the website and purchase amount? Do customers who spend more time on the website purchase more items?"
   ]
  },
  {
   "cell_type": "code",
   "execution_count": 84,
   "metadata": {},
   "outputs": [
    {
     "name": "stdout",
     "output_type": "stream",
     "text": [
      "Correlation Between Time Spent on Website (min) and Purchase Amount ($):\n",
      "                             Time Spent on Website (min)  Purchase Amount ($)\n",
      "Time Spent on Website (min)                     1.000000             0.010025\n",
      "Purchase Amount ($)                             0.010025             1.000000\n"
     ]
    },
    {
     "data": {
      "image/png": "[encoded data removed]",
      "text/plain": [
       "<Figure size 640x480 with 2 Axes>"
      ]
     },
     "metadata": {},
     "output_type": "display_data"
    }
   ],
   "source": [
    "# 'Time Spent on Website (min)','Purchase Amount ($)'\n",
    "corr_cols=['Time Spent on Website (min)','Purchase Amount ($)']\n",
    "correlation=ecommerce[corr_cols].corr()\n",
    "print('Correlation Between Time Spent on Website (min) and Purchase Amount ($):')\n",
    "print(correlation)\n",
    "# Visualize the correlation for better understanding\n",
    "sns.heatmap(correlation, annot=True, cmap='coolwarm')\n",
    "plt.show()"
   ]
  },
  {
   "cell_type": "markdown",
   "metadata": {},
   "source": [
    "<b> Observation </b>\n",
    "- The correlation between time spent on the website and purchase amount is 0.010025(only 1 %), which is a very low positive correlation. This suggests that there is almost no significant relationship between the amount of time a customer spends on the website and the amount they purchase. "
   ]
  },
  {
   "cell_type": "code",
   "execution_count": 85,
   "metadata": {},
   "outputs": [
    {
     "name": "stdout",
     "output_type": "stream",
     "text": [
      "Correlation Between Time Spent on Website (min) and Number of Items Purchased:\n",
      "                             Time Spent on Website (min)  \\\n",
      "Time Spent on Website (min)                     1.000000   \n",
      "Number of Items Purchased                       0.000148   \n",
      "\n",
      "                             Number of Items Purchased  \n",
      "Time Spent on Website (min)                   0.000148  \n",
      "Number of Items Purchased                     1.000000  \n"
     ]
    },
    {
     "data": {
      "image/png": "[encoded data removed]",
      "text/plain": [
       "<Figure size 640x480 with 2 Axes>"
      ]
     },
     "metadata": {},
     "output_type": "display_data"
    }
   ],
   "source": [
    "#  'Time Spent on Website (min)' vs 'Number of Items Purchased'\n",
    "corr_cols=['Time Spent on Website (min)','Number of Items Purchased']\n",
    "correlation=ecommerce[corr_cols].corr()\n",
    "print('Correlation Between Time Spent on Website (min) and Number of Items Purchased:')\n",
    "print(correlation)\n",
    "# Visualize the correlation for better understanding\n",
    "sns.heatmap(correlation, annot=True, cmap='coolwarm')\n",
    "plt.show()"
   ]
  },
  {
   "cell_type": "markdown",
   "metadata": {},
   "source": [
    "<b> Observation:  \n",
    "- The correlation between Time Spent on Website and Number of Items Purchased is 0.000148, which indicates an extremely weak positive correlation, almost negligible. This suggests that there is practically no relationship between the time customers spend on the website and the number of items they purchase."
   ]
  },
  {
   "cell_type": "markdown",
   "metadata": {},
   "source": [
    "<b>Q3: What percentage of customers are satisfied (rating of 4 or 5) and are also return\n",
    "customers?"
   ]
  },
  {
   "cell_type": "code",
   "execution_count": 65,
   "metadata": {},
   "outputs": [
    {
     "name": "stdout",
     "output_type": "stream",
     "text": [
      "Percentage of satisfied and return customers : 20.080000000000002 %\n"
     ]
    }
   ],
   "source": [
    "total_customer=len(ecommerce)\n",
    "return_customer=ecommerce[((ecommerce['Review Score (1-5)'] == 4) | (ecommerce['Review Score (1-5)'] == 5)) & (ecommerce['Return Customer']==True)]\n",
    "return_customer=len(return_customer)\n",
    "percentage_satisfied_return_customers = (return_customer / total_customer)*100\n",
    "print(f'Percentage of satisfied and return customers : {percentage_satisfied_return_customers} %')\n"
   ]
  },
  {
   "cell_type": "markdown",
   "metadata": {},
   "source": [
    "<b> Observation: </b>\n",
    "\n",
    "- Only arppox 20% people are satisfied (rating 4 or 5) and also also return customer.  "
   ]
  },
  {
   "cell_type": "markdown",
   "metadata": {},
   "source": [
    "<b> Q4: What is the relationship between the number of items purchased and customer\n",
    "satisfaction?"
   ]
  },
  {
   "cell_type": "code",
   "execution_count": 66,
   "metadata": {},
   "outputs": [
    {
     "name": "stdout",
     "output_type": "stream",
     "text": [
      "                           satisfaction_mapping  Number of Items Purchased\n",
      "satisfaction_mapping                   1.000000                  -0.006425\n",
      "Number of Items Purchased             -0.006425                   1.000000\n"
     ]
    },
    {
     "name": "stderr",
     "output_type": "stream",
     "text": [
      "C:\\Users\\User\\AppData\\Local\\Temp\\ipykernel_11772\\689869540.py:2: SettingWithCopyWarning: \n",
      "A value is trying to be set on a copy of a slice from a DataFrame.\n",
      "Try using .loc[row_indexer,col_indexer] = value instead\n",
      "\n",
      "See the caveats in the documentation: https://pandas.pydata.org/pandas-docs/stable/user_guide/indexing.html#returning-a-view-versus-a-copy\n",
      "  corr_cols['satisfaction_mapping']=corr_cols['Customer Satisfaction'].map({'Low':0,'Medium':1,'High':2})# mapping for string value to numerical value\n"
     ]
    },
    {
     "data": {
      "image/png": "[encoded data removed]",
      "text/plain": [
       "<Figure size 640x480 with 1 Axes>"
      ]
     },
     "metadata": {},
     "output_type": "display_data"
    }
   ],
   "source": [
    "corr_cols=ecommerce[['Customer Satisfaction','Number of Items Purchased']]\n",
    "corr_cols['satisfaction_mapping']=corr_cols['Customer Satisfaction'].map({'Low':0,'Medium':1,'High':2})# mapping for string value to numerical value\n",
    "correlation=corr_cols[['satisfaction_mapping','Number of Items Purchased']].corr()\n",
    "print(correlation)\n",
    "# Visualize the correlation for better understanding\n",
    "sns.scatterplot(x='satisfaction_mapping',y='Number of Items Purchased',data=corr_cols)\n",
    "plt.show()"
   ]
  },
  {
   "cell_type": "markdown",
   "metadata": {},
   "source": [
    "<b> Observation: \n",
    "- The correlation between items purchased and customer satisfaction is -0.0064, indicating a very weak negative correlation. This means that there is almost no linear relationship between the number of items purchased and customer satisfaction."
   ]
  },
  {
   "cell_type": "markdown",
   "metadata": {},
   "source": [
    "<b> Q5: Which location has the 2nd highest average purchase amount?"
   ]
  },
  {
   "cell_type": "code",
   "execution_count": 67,
   "metadata": {},
   "outputs": [
    {
     "data": {
      "text/plain": [
       "Location\n",
       "Khulna        513.937072\n",
       "Barisal       513.674560\n",
       "Mymensingh    507.892211\n",
       "Chittagong    507.851675\n",
       "Dhaka         502.002504\n",
       "Rajshahi      495.544649\n",
       "Sylhet        494.976427\n",
       "Rangpur       494.368867\n",
       "Name: Purchase Amount ($), dtype: float64"
      ]
     },
     "execution_count": 67,
     "metadata": {},
     "output_type": "execute_result"
    }
   ],
   "source": [
    "# For Better Understanding\n",
    "ecommerce.groupby('Location')['Purchase Amount ($)'].mean().sort_values(ascending=False)\n"
   ]
  },
  {
   "cell_type": "code",
   "execution_count": 68,
   "metadata": {},
   "outputs": [
    {
     "name": "stdout",
     "output_type": "stream",
     "text": [
      "Second highest average purchase amount location: Barisal, Average Purchase Amount: 513.6745599999999\n"
     ]
    }
   ],
   "source": [
    "second_highes_avg_location=ecommerce.groupby('Location')['Purchase Amount ($)'].mean().sort_values(ascending=False).index[1]\n",
    "second_highest_loc_avg=ecommerce.groupby('Location')['Purchase Amount ($)'].mean().sort_values(ascending=False).iloc[1]\n",
    "print(f'Second highest average purchase amount location: {second_highes_avg_location}, Average Purchase Amount: {second_highest_loc_avg}')\n"
   ]
  },
  {
   "cell_type": "markdown",
   "metadata": {},
   "source": [
    "<b> observation: </b>\n",
    "- The location with the second highest average purchase amount is Barisal, with an average purchase amount of 513.67.This indicates that Barisal just below the Khulna which is highest. "
   ]
  },
  {
   "cell_type": "markdown",
   "metadata": {},
   "source": [
    "# Level 3: Critical Thinking Insights"
   ]
  },
  {
   "cell_type": "markdown",
   "metadata": {},
   "source": [
    "<b>Q1: What factors contribute most to a customer being classified as a return customer?"
   ]
  },
  {
   "cell_type": "markdown",
   "metadata": {},
   "source": [
    "<b> First We need to convert categorical values to numerical values for relation with return customer. </b>"
   ]
  },
  {
   "cell_type": "code",
   "execution_count": 69,
   "metadata": {},
   "outputs": [
    {
     "name": "stdout",
     "output_type": "stream",
     "text": [
      "Top Factors Affecting Return Customer Status:                             Return Customer\n",
      "Discount Availed                   0.025003\n",
      "Gender_Other                       0.021172\n",
      "Location_Rajshahi                  0.019608\n",
      "Delivery Time (days)               0.013922\n",
      "Payment Method_Credit Card         0.012839\n",
      "Product Category_Toys              0.011652\n",
      "Location_Rangpur                   0.010875\n",
      "Product Category_Clothing          0.010726\n",
      "Subscription Status_Trial          0.009294\n"
     ]
    },
    {
     "data": {
      "image/png": "[encoded data removed]",
      "text/plain": [
       "<Figure size 800x600 with 1 Axes>"
      ]
     },
     "metadata": {},
     "output_type": "display_data"
    }
   ],
   "source": [
    "encoded_ecomerce = pd.get_dummies(ecommerce, drop_first=True)# Convert it to one hot encoding\n",
    "correlation = encoded_ecomerce.corr()\n",
    "top_factors = correlation[['Return Customer']].sort_values(by='Return Customer', ascending=False)[1:10]  \n",
    "print('Top Factors Affecting Return Customer Status:',top_factors)\n",
    "top_factors.plot(kind='barh', figsize=(8, 6), title='Top Factors Affecting Return Customer Status')\n",
    "plt.xlabel('Correlation with Return Customer')\n",
    "plt.show()"
   ]
  },
  {
   "cell_type": "code",
   "execution_count": 70,
   "metadata": {},
   "outputs": [],
   "source": [
    "top_factors_dataset = top_factors.copy()\n",
    "top_factors_dataset.to_csv('top_factors_return_customers.csv', index=True) # Just to save the data for power Bi visualization"
   ]
  },
  {
   "cell_type": "markdown",
   "metadata": {},
   "source": [
    "<b>Observation:</b>\n",
    "\n",
    "**Top 10 Factors Affecting Return Customer Status:**\n",
    "\n",
    "- Discount Availed: Customers who received discounts are slightly more likely to be return customers.\n",
    "\n",
    "- Gender: Customers identifying as **\"Other\"** gender show a small positive correlation with being return customers.\n",
    "\n",
    "- Location: Customers from **Rajshahi** and **Rangpur** are likely to be return customers, with **Rajshahi** showing a stronger likelihood of customer retention. **Rangpur** has a small positive correlation with return rates.\n",
    "\n",
    "- Delivery Time: Faster delivery times slightly increase the likelihood of customers returning and significantly affect return customer status.\n",
    "\n",
    "- Payment Method: Customers using **credit cards** have a small positive correlation with being return customers.\n",
    "\n",
    "- Product Category: Customers purchasing **toys** and **clothing** are slightly more likely to be return customers.\n",
    "\n",
    "- Subscription Status: Customers on a **trial subscription** show a small positive correlation with return status.\n"
   ]
  },
  {
   "cell_type": "markdown",
   "metadata": {},
   "source": [
    "<b>Q2: How do payment methods influence customer satisfaction and return rates?"
   ]
  },
  {
   "cell_type": "code",
   "execution_count": 71,
   "metadata": {},
   "outputs": [
    {
     "data": {
      "text/html": [
       "<div>\n",
       "<style scoped>\n",
       "    .dataframe tbody tr th:only-of-type {\n",
       "        vertical-align: middle;\n",
       "    }\n",
       "\n",
       "    .dataframe tbody tr th {\n",
       "        vertical-align: top;\n",
       "    }\n",
       "\n",
       "    .dataframe thead tr th {\n",
       "        text-align: left;\n",
       "    }\n",
       "\n",
       "    .dataframe thead tr:last-of-type th {\n",
       "        text-align: right;\n",
       "    }\n",
       "</style>\n",
       "<table border=\"1\" class=\"dataframe\">\n",
       "  <thead>\n",
       "    <tr>\n",
       "      <th>Customer Satisfaction</th>\n",
       "      <th colspan=\"2\" halign=\"left\">High</th>\n",
       "      <th colspan=\"2\" halign=\"left\">Low</th>\n",
       "      <th colspan=\"2\" halign=\"left\">Medium</th>\n",
       "    </tr>\n",
       "    <tr>\n",
       "      <th>Return Customer</th>\n",
       "      <th>False</th>\n",
       "      <th>True</th>\n",
       "      <th>False</th>\n",
       "      <th>True</th>\n",
       "      <th>False</th>\n",
       "      <th>True</th>\n",
       "    </tr>\n",
       "    <tr>\n",
       "      <th>Payment Method</th>\n",
       "      <th></th>\n",
       "      <th></th>\n",
       "      <th></th>\n",
       "      <th></th>\n",
       "      <th></th>\n",
       "      <th></th>\n",
       "    </tr>\n",
       "  </thead>\n",
       "  <tbody>\n",
       "    <tr>\n",
       "      <th>Bank Transfer</th>\n",
       "      <td>0.174649</td>\n",
       "      <td>0.164973</td>\n",
       "      <td>0.155298</td>\n",
       "      <td>0.172714</td>\n",
       "      <td>0.164006</td>\n",
       "      <td>0.168360</td>\n",
       "    </tr>\n",
       "    <tr>\n",
       "      <th>Cash on Delivery</th>\n",
       "      <td>0.165919</td>\n",
       "      <td>0.146487</td>\n",
       "      <td>0.174888</td>\n",
       "      <td>0.175386</td>\n",
       "      <td>0.169905</td>\n",
       "      <td>0.167414</td>\n",
       "    </tr>\n",
       "    <tr>\n",
       "      <th>Credit Card</th>\n",
       "      <td>0.166667</td>\n",
       "      <td>0.179980</td>\n",
       "      <td>0.169132</td>\n",
       "      <td>0.174556</td>\n",
       "      <td>0.151874</td>\n",
       "      <td>0.157791</td>\n",
       "    </tr>\n",
       "    <tr>\n",
       "      <th>Debit Card</th>\n",
       "      <td>0.172466</td>\n",
       "      <td>0.164397</td>\n",
       "      <td>0.166919</td>\n",
       "      <td>0.167927</td>\n",
       "      <td>0.169440</td>\n",
       "      <td>0.158850</td>\n",
       "    </tr>\n",
       "    <tr>\n",
       "      <th>PayPal</th>\n",
       "      <td>0.160836</td>\n",
       "      <td>0.154569</td>\n",
       "      <td>0.169713</td>\n",
       "      <td>0.155614</td>\n",
       "      <td>0.170757</td>\n",
       "      <td>0.188512</td>\n",
       "    </tr>\n",
       "  </tbody>\n",
       "</table>\n",
       "</div>"
      ],
      "text/plain": [
       "Customer Satisfaction      High                 Low              Medium  \\\n",
       "Return Customer           False     True      False     True      False   \n",
       "Payment Method                                                            \n",
       "Bank Transfer          0.174649  0.164973  0.155298  0.172714  0.164006   \n",
       "Cash on Delivery       0.165919  0.146487  0.174888  0.175386  0.169905   \n",
       "Credit Card            0.166667  0.179980  0.169132  0.174556  0.151874   \n",
       "Debit Card             0.172466  0.164397  0.166919  0.167927  0.169440   \n",
       "PayPal                 0.160836  0.154569  0.169713  0.155614  0.170757   \n",
       "\n",
       "Customer Satisfaction            \n",
       "Return Customer           True   \n",
       "Payment Method                   \n",
       "Bank Transfer          0.168360  \n",
       "Cash on Delivery       0.167414  \n",
       "Credit Card            0.157791  \n",
       "Debit Card             0.158850  \n",
       "PayPal                 0.188512  "
      ]
     },
     "execution_count": 71,
     "metadata": {},
     "output_type": "execute_result"
    }
   ],
   "source": [
    "payment_return_crosstab = pd.crosstab(ecommerce['Payment Method'],[ecommerce['Customer Satisfaction'],ecommerce['Return Customer']],normalize='index')\n",
    "payment_return_crosstab"
   ]
  },
  {
   "cell_type": "markdown",
   "metadata": {},
   "source": [
    "<b> Observation: </b>\n",
    "\n",
    "<p>We only take True values for each category of Satisfaction.</p>\n",
    "\n",
    "- Highest Satisfaction Return Customer: Credit card users have the highest customer satisfaction and return rates, with 17% of users being highly satisfied when using credit cards for payment.\n",
    "\n",
    "- Lowest Satisfaction Return Customer: Most payment methods show slightly better return rates, but PayPal stands out with a higher false return rate compared to its true return rate.\n",
    "\n",
    "- Medium Satisfaction Return Customer: In this category, PayPal has the highest return rate percentage at 18%, followed by bank transfer and credit card."
   ]
  },
  {
   "cell_type": "markdown",
   "metadata": {},
   "source": [
    "<b>Q3: How does the location influence both purchase amount and delivery time?"
   ]
  },
  {
   "cell_type": "code",
   "execution_count": 72,
   "metadata": {},
   "outputs": [],
   "source": [
    "# Average purchase amount by location\n",
    "average_purchase_by_location = ecommerce.groupby('Location')['Purchase Amount ($)'].mean()\n",
    "# Average delivery time by location\n",
    "average_delivery_time_by_location = ecommerce.groupby('Location')['Delivery Time (days)'].mean()"
   ]
  },
  {
   "cell_type": "code",
   "execution_count": 73,
   "metadata": {},
   "outputs": [
    {
     "name": "stdout",
     "output_type": "stream",
     "text": [
      "Location Influence on Purchase Amount and Delivery Time:\n",
      "            Average Purchase Amount ($)  Average Delivery Time (days)\n",
      "Location                                                             \n",
      "Khulna                       513.937072                      6.811774\n",
      "Barisal                      513.674560                      7.072800\n",
      "Mymensingh                   507.892211                      7.099219\n",
      "Chittagong                   507.851675                      7.020440\n",
      "Dhaka                        502.002504                      6.941957\n",
      "Rajshahi                     495.544649                      7.113130\n",
      "Sylhet                       494.976427                      7.018593\n",
      "Rangpur                      494.368867                      7.031125\n"
     ]
    }
   ],
   "source": [
    "# Merge into a df for better understand the relationship\n",
    "location_influence = pd.DataFrame({\n",
    "    'Average Purchase Amount ($)': average_purchase_by_location,\n",
    "    'Average Delivery Time (days)': average_delivery_time_by_location\n",
    "})\n",
    "print(\"Location Influence on Purchase Amount and Delivery Time:\")\n",
    "print(location_influence.sort_values(by='Average Purchase Amount ($)', ascending=False))\n"
   ]
  },
  {
   "cell_type": "markdown",
   "metadata": {},
   "source": [
    "<b> Observation: </b>\n",
    "\n",
    "- Khulna has the highest average purchase amount at $513.94, closely followed by Barisal at $513.67. Additionally, Khulna has the shortest delivery time, which may be a contributing factor to higher purchases in this area.\n",
    "\n",
    "- Rangpur and Sylhet have the lowest average purchase amounts, around $494, indicating they are lower purchasing areas. Moreover, it takes approximately 7 days for deliveries in these regions, which might be a contributing factor to the lower purchases.\n",
    "\n"
   ]
  },
  {
   "cell_type": "markdown",
   "metadata": {},
   "source": [
    "<b> Q4: What major insights are found? Give a proper explanation"
   ]
  },
  {
   "cell_type": "markdown",
   "metadata": {},
   "source": [
    "<p> Presentation [Video] </p>"
   ]
  },
  {
   "cell_type": "markdown",
   "metadata": {},
   "source": [
    "# More Insight [Personal Observation]"
   ]
  },
  {
   "cell_type": "code",
   "execution_count": 74,
   "metadata": {},
   "outputs": [],
   "source": [
    "# create extra column revenue\n",
    "ecommerce['revenue']=ecommerce['Number of Items Purchased']*ecommerce['Purchase Amount ($)']"
   ]
  },
  {
   "cell_type": "markdown",
   "metadata": {},
   "source": [
    "## Insight-1"
   ]
  },
  {
   "cell_type": "code",
   "execution_count": 75,
   "metadata": {},
   "outputs": [
    {
     "data": {
      "text/plain": [
       "Customer Satisfaction\n",
       "Low       7.050223\n",
       "Medium    6.995497\n",
       "High      6.992736\n",
       "Name: Delivery Time (days), dtype: float64"
      ]
     },
     "execution_count": 75,
     "metadata": {},
     "output_type": "execute_result"
    }
   ],
   "source": [
    "ecommerce.groupby('Customer Satisfaction')['Delivery Time (days)'].mean().sort_values(ascending=False)"
   ]
  },
  {
   "cell_type": "markdown",
   "metadata": {},
   "source": [
    "## Insight-2\n",
    "\n",
    "\n"
   ]
  },
  {
   "cell_type": "code",
   "execution_count": 76,
   "metadata": {},
   "outputs": [
    {
     "data": {
      "text/plain": [
       "Discount Availed\n",
       "False    12708368.33\n",
       "True     12536066.33\n",
       "Name: revenue, dtype: float64"
      ]
     },
     "execution_count": 76,
     "metadata": {},
     "output_type": "execute_result"
    }
   ],
   "source": [
    "ecommerce.groupby('Discount Availed')['revenue'].sum().sort_values(ascending=False)"
   ]
  },
  {
   "cell_type": "markdown",
   "metadata": {},
   "source": [
    "<b> Observation: </b>\n",
    "\n",
    "- The revenue distribution is approximately 50-50 between customers who availed discounts and those who didn't. This suggests that discounts still play an important role in driving revenue, as they are effective in encouraging customers to make purchases, also it contribution in revenue generation."
   ]
  },
  {
   "cell_type": "markdown",
   "metadata": {},
   "source": [
    "## Insight-3"
   ]
  },
  {
   "cell_type": "code",
   "execution_count": 77,
   "metadata": {},
   "outputs": [
    {
     "name": "stdout",
     "output_type": "stream",
     "text": [
      "Top 5 Product Categories by Revenue:\n"
     ]
    },
    {
     "data": {
      "text/plain": [
       "Product Category\n",
       "Books          3394150.81\n",
       "Toys           3389309.07\n",
       "Home           3220024.72\n",
       "Clothing       3210482.75\n",
       "Electronics    3144954.65\n",
       "Name: revenue, dtype: float64"
      ]
     },
     "execution_count": 77,
     "metadata": {},
     "output_type": "execute_result"
    }
   ],
   "source": [
    "print(\"Top 5 Product Categories by Revenue:\")\n",
    "ecommerce.groupby('Product Category')['revenue'].sum().sort_values(ascending=False).head(5)"
   ]
  },
  {
   "cell_type": "code",
   "execution_count": 78,
   "metadata": {},
   "outputs": [
    {
     "name": "stdout",
     "output_type": "stream",
     "text": [
      "Bottom 5 Product Categories by Revenue:\n"
     ]
    },
    {
     "data": {
      "text/plain": [
       "Product Category\n",
       "Sports         2878166.05\n",
       "Beauty         2957895.48\n",
       "Groceries      3049451.13\n",
       "Electronics    3144954.65\n",
       "Clothing       3210482.75\n",
       "Name: revenue, dtype: float64"
      ]
     },
     "execution_count": 78,
     "metadata": {},
     "output_type": "execute_result"
    }
   ],
   "source": [
    "print(\"Bottom 5 Product Categories by Revenue:\")\n",
    "ecommerce.groupby('Product Category')['revenue'].sum().sort_values(ascending=True).head(5)"
   ]
  },
  {
   "cell_type": "markdown",
   "metadata": {},
   "source": [
    "## Insight-4"
   ]
  },
  {
   "cell_type": "code",
   "execution_count": 79,
   "metadata": {},
   "outputs": [],
   "source": [
    "def categorize_age_group(age):# Function to categorize age group based on age\n",
    "    if 17 <= age <= 30:\n",
    "        return \"Young Adult\"\n",
    "    elif 31 <= age <= 45:\n",
    "        return \"Middle Age Adult\"\n",
    "    elif age > 45:\n",
    "        return \"Old Adult\"\n",
    "    else:\n",
    "        return \"Unknown\"\n",
    "\n",
    "ecommerce['Age_Group'] = ecommerce['Age'].apply(categorize_age_group)\n"
   ]
  },
  {
   "cell_type": "code",
   "execution_count": 80,
   "metadata": {},
   "outputs": [
    {
     "data": {
      "text/plain": [
       "Age_Group\n",
       "Old Adult           11917106.88\n",
       "Middle Age Adult     7130057.56\n",
       "Young Adult          6197270.22\n",
       "Name: revenue, dtype: float64"
      ]
     },
     "execution_count": 80,
     "metadata": {},
     "output_type": "execute_result"
    }
   ],
   "source": [
    "ecommerce.groupby('Age_Group')['revenue'].sum().sort_values(ascending=False)"
   ]
  },
  {
   "cell_type": "markdown",
   "metadata": {},
   "source": [
    "<b> Observation: </b>\n",
    "\n",
    "- The Old Adult age group generates the highest revenue. This could be due to several factors:\n",
    "\n",
    " 1. They are more likely to be return customers.\n",
    " 2. They tend to purchase larger quantities of products.\n",
    " 3. They may prefer online shopping due to convenience and their age.\n",
    "\n",
    "- We should focus on the Young Adult and Middle Age Adult categories to boost revenue. Implementing targeted campaigns or offering discounts could help attract these groups to make more purchases.\n"
   ]
  }
 ],
 "metadata": {
  "kernelspec": {
   "display_name": "Python 3",
   "language": "python",
   "name": "python3"
  },
  "language_info": {
   "codemirror_mode": {
    "name": "ipython",
    "version": 3
   },
   "file_extension": ".py",
   "mimetype": "text/x-python",
   "name": "python",
   "nbconvert_exporter": "python",
   "pygments_lexer": "ipython3",
   "version": "3.11.1"
  }
 },
 "nbformat": 4,
 "nbformat_minor": 2
}
